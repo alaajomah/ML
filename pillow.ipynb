{
  "nbformat": 4,
  "nbformat_minor": 0,
  "metadata": {
    "colab": {
      "provenance": [],
      "authorship_tag": "ABX9TyPAIPji1X8qW6RZJwWMgckD",
      "include_colab_link": true
    },
    "kernelspec": {
      "name": "python3",
      "display_name": "Python 3"
    },
    "language_info": {
      "name": "python"
    }
  },
  "cells": [
    {
      "cell_type": "markdown",
      "metadata": {
        "id": "view-in-github",
        "colab_type": "text"
      },
      "source": [
        "<a href=\"https://colab.research.google.com/github/alaajomah/ML/blob/main/pillow.ipynb\" target=\"_parent\"><img src=\"https://colab.research.google.com/assets/colab-badge.svg\" alt=\"Open In Colab\"/></a>"
      ]
    },
    {
      "cell_type": "code",
      "execution_count": 1,
      "metadata": {
        "colab": {
          "base_uri": "https://localhost:8080/"
        },
        "id": "H_E8KTbIQRsH",
        "outputId": "b9233cb7-efd2-4366-f68e-8ae635fafefb"
      },
      "outputs": [
        {
          "output_type": "stream",
          "name": "stdout",
          "text": [
            "Requirement already satisfied: Pillow in /usr/local/lib/python3.10/dist-packages (9.4.0)\n"
          ]
        }
      ],
      "source": [
        "!pip install Pillow"
      ]
    },
    {
      "cell_type": "code",
      "source": [
        "import numpy as np\n",
        "import PIL\n",
        "from PIL import Image,ImageDraw"
      ],
      "metadata": {
        "id": "2wTQpR4aQcvt"
      },
      "execution_count": 2,
      "outputs": []
    },
    {
      "cell_type": "code",
      "source": [
        "imag=Image.new('RGB',(400,400),'blue')\n",
        "imag.save(\"imgb.png\")"
      ],
      "metadata": {
        "id": "VIprj2yKZX7w"
      },
      "execution_count": 3,
      "outputs": []
    },
    {
      "cell_type": "code",
      "source": [
        "draw=ImageDraw.Draw(imag)\n",
        "draw.rectangle([0,100,300,200],fill='red')\n",
        "imag.save('sample.png')\n"
      ],
      "metadata": {
        "id": "MaQ2t3HwR4no"
      },
      "execution_count": 4,
      "outputs": []
    },
    {
      "cell_type": "code",
      "source": [
        "\n",
        "h=400\n",
        "w=400\n",
        "data=np.ones((h,w,3),dtype=np.uint8)\n",
        "data[0:200,0:100]=[0,0,250]\n",
        "img=Image.fromarray(data,'RGB')\n",
        "img.save(\"jjj.png\")\n",
        "img.show()\n"
      ],
      "metadata": {
        "id": "tm97cxXWCLVJ"
      },
      "execution_count": 13,
      "outputs": []
    }
  ]
}