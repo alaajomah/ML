{
  "nbformat": 4,
  "nbformat_minor": 0,
  "metadata": {
    "colab": {
      "provenance": [],
      "mount_file_id": "1JDdboWpiWlNa7r5zEAYHrW8WAjotAFA9",
      "authorship_tag": "ABX9TyPuXVElYtEBk3cgkTt1m/3v",
      "include_colab_link": true
    },
    "kernelspec": {
      "name": "python3",
      "display_name": "Python 3"
    },
    "language_info": {
      "name": "python"
    },
    "gpuClass": "standard"
  },
  "cells": [
    {
      "cell_type": "markdown",
      "metadata": {
        "id": "view-in-github",
        "colab_type": "text"
      },
      "source": [
        "<a href=\"https://colab.research.google.com/github/alaajomah/ML/blob/main/Assignment1_Linear_Regression.ipynb\" target=\"_parent\"><img src=\"https://colab.research.google.com/assets/colab-badge.svg\" alt=\"Open In Colab\"/></a>"
      ]
    },
    {
      "cell_type": "markdown",
      "source": [
        "**Link of the dataset**\n",
        "\n",
        "[link text](https://www.Kaggle.com/shubham47/students-score-dataset-linear-regression)\n",
        "\n",
        "h ( x ) = theta_1 + theta_0 x\n",
        "\n",
        "\n"
      ],
      "metadata": {
        "id": "MvnJYVZCIkfL"
      }
    },
    {
      "cell_type": "code",
      "source": [
        "print(data)\n"
      ],
      "metadata": {
        "id": "ubiBzpWE6UZv"
      },
      "execution_count": null,
      "outputs": []
    },
    {
      "cell_type": "code",
      "source": [
        "\n",
        "import numpy as np\n",
        "import pandas as pd\n",
        "import matplotlib.pyplot as plt\n",
        "\n",
        "data=pd.read_csv('student_scores.csv')\n",
        "x=data.iloc[:,0]\n",
        "y=data.iloc[:,1]\n",
        "\n",
        "plt.scatter(x,y)\n",
        "plt.title('Data distribution')\n",
        "plt.xlabel('hours')\n",
        "plt.ylabel('scores')\n",
        "plt.show()\n"
      ],
      "metadata": {
        "id": "wnIcRf7WCO2o"
      },
      "execution_count": null,
      "outputs": []
    },
    {
      "cell_type": "code",
      "source": [
        "#building the model\n",
        "theta_0=0\n",
        "theta_1=0\n",
        "\n",
        "l=0.001       #the learning rate\n",
        "epochs=1000   # the number of iteration to perform gradient descent\n",
        "n=int(len(x))   #number of element in x\n",
        "\n",
        "losses=[]\n",
        "\n",
        "\n",
        "#performing gradient descent \n",
        "for i in range(epochs):\n",
        "  y_pred=theta_1 + theta_0*x     #the current predicted value of y\n",
        "\n",
        "  mse=(1/n)*sum((y_pred-y)**2)\n",
        "  losses.append(mse)\n",
        "\n",
        "  d_theta_0=(-2/n)*sum(x*(y-y_pred))      #derivative wrt theta_0\n",
        "  d_theta_1=(-2/n)*sum(y-y_pred)          #derivative wrt theta_1\n",
        "\n",
        "  theta_0=theta_0-l*d_theta_0      #update theta_0\n",
        "  theta_1=theta_1-l*d_theta_1      #update theta_1\n",
        "  \n",
        "print('theta_0=',theta_0)\n",
        "print('theta_1=',theta_1)  \n",
        "\n"
      ],
      "metadata": {
        "id": "4Rn8w9uGPard"
      },
      "execution_count": null,
      "outputs": []
    },
    {
      "cell_type": "code",
      "source": [
        "#making prediction\n",
        "y_pred=m*x+c\n",
        "\n",
        "plt.scatter(x,y)\n",
        "plt.plot([min(x),max(x)],[min(y_pred),max(y_pred)],color='red')  #predicted\n"
      ],
      "metadata": {
        "id": "u4OUHOv9iN3C"
      },
      "execution_count": null,
      "outputs": []
    },
    {
      "cell_type": "code",
      "source": [
        "plt.plot(losses)"
      ],
      "metadata": {
        "id": "3Kqq0setKOYq"
      },
      "execution_count": null,
      "outputs": []
    },
    {
      "cell_type": "code",
      "source": [
        "from google.colab import drive\n",
        "drive.mount('/content/drive')"
      ],
      "metadata": {
        "id": "hVrHDmVRMxt9"
      },
      "execution_count": null,
      "outputs": []
    },
    {
      "cell_type": "code",
      "source": [
        "\n"
      ],
      "metadata": {
        "id": "3ISzFlUkQRA2"
      },
      "execution_count": null,
      "outputs": []
    }
  ]
}